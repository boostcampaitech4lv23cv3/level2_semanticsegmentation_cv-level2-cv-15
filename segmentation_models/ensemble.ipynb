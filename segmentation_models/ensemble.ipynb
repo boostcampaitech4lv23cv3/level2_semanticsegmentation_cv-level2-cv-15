{
 "cells": [
  {
   "cell_type": "code",
   "execution_count": null,
   "id": "921c44c7-5d2f-4bd3-8c7e-863ec43604c5",
   "metadata": {},
   "outputs": [],
   "source": [
    "import os\n",
    "import json\n",
    "import pandas as pd\n",
    "import numpy as np\n",
    "import cv2\n",
    "import matplotlib.pyplot as plt\n",
    "import torch.nn as nn\n",
    "import torch\n",
    "from pycocotools import mask\n",
    "import skimage.measure as measure\n",
    "from scipy import stats\n",
    "from tqdm import tqdm"
   ]
  },
  {
   "cell_type": "code",
   "execution_count": null,
   "id": "de37742c-a90b-4b1c-9b01-0ac085a21aeb",
   "metadata": {},
   "outputs": [],
   "source": [
    "# output.csv 읽기\n",
    "submission1 = pd.read_csv('./output1.csv', index_col=None)\n",
    "submission2 = pd.read_csv('./output2.csv', index_col=None)\n",
    "submission3 = pd.read_csv('./output3.csv', index_col=None)\n",
    "\n",
    "subs = [submission1, submission2, submission3]\n",
    "\n",
    "# 데이터 경로\n",
    "dataset_path = '/opt/ml/level2_semanticsegmentation_cv-level2-cv-15/data'\n",
    "\n",
    "\n",
    "# 클래스\n",
    "classes = ['Backgroud', 'General trash', 'Paper', 'Paper pack', 'Metal',\n",
    "            'Glass', 'Plastic', 'Styrofoam', 'Plastic bag', 'Battery', 'Clothing']\n",
    "\n",
    "# 클래스 색깔\n",
    "palette = [\n",
    "    [0, 0, 0], [192, 0, 128], [0, 128, 192], [0, 128, 64], [128, 0, 0], [64, 0, 128],\n",
    "    [64, 0, 192], [192, 128, 64], [192, 192, 128], [64, 64, 128], [128, 0, 192]\n",
    "]\n"
   ]
  },
  {
   "cell_type": "code",
   "execution_count": null,
   "id": "2f57d95d-1b45-4846-9d1f-39eb47da6448",
   "metadata": {},
   "outputs": [],
   "source": [
    "# Ensemble 코드\n",
    "\n",
    "print(\"Start Ensemble...\")\n",
    "\n",
    "# sample_submisson.csv 열기\n",
    "submission = pd.read_csv('./code/submission/sample_submission.csv', index_col=None)\n",
    "\n",
    "\n",
    "for ind in tqdm(range(819)):\n",
    "    dmasks = []\n",
    "    \n",
    "    pseudo_mask = np.zeros((256, 256), dtype=np.int32)\n",
    "    \n",
    "    # (256, 256) 를 N개 쌓아서 (N, 256, 256) 로 만든후 최빈값 뽑아내기\n",
    "    for i in range(len(subs)):\n",
    "        dmask = np.fromstring(subs[i]['PredictionString'][ind], dtype=int, sep=' ').reshape(256, -1)\n",
    "        dmasks.append(dmask)\n",
    "    \n",
    "    dmasks = np.stack(dmasks)\n",
    "    m = stats.mode(dmasks)\n",
    "    pseudo_mask = m[0].squeeze().ravel()\n",
    "    \n",
    "    file_name = subs[i]['image_id'][ind]\n",
    "    predictString = ' '.join(str(e) for e in pseudo_mask.tolist())\n",
    "    \n",
    "    submission = submission.append({\"image_id\" : file_name, \"PredictionString\" : predictString}, ignore_index=True)\n",
    "    \n",
    "# submission.csv로 저장\n",
    "submission.to_csv(\"./code/submission/Ensemble.csv\", index=False)\n",
    "\n",
    "\n",
    "print(\"Done\")"
   ]
  }
 ],
 "metadata": {
  "kernelspec": {
   "display_name": "Python 3 (ipykernel)",
   "language": "python",
   "name": "python3"
  },
  "language_info": {
   "codemirror_mode": {
    "name": "ipython",
    "version": 3
   },
   "file_extension": ".py",
   "mimetype": "text/x-python",
   "name": "python",
   "nbconvert_exporter": "python",
   "pygments_lexer": "ipython3",
   "version": "3.8.5"
  }
 },
 "nbformat": 4,
 "nbformat_minor": 5
}
