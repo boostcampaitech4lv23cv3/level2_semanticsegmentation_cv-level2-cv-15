{
 "cells": [
  {
   "cell_type": "code",
   "execution_count": 1,
   "metadata": {},
   "outputs": [],
   "source": [
    "import os\n",
    "import json\n",
    "import pandas as pd\n",
    "import numpy as np\n",
    "import cv2\n",
    "import matplotlib.pyplot as plt\n",
    "import torch.nn as nn\n",
    "import torch\n",
    "from pycocotools import mask\n",
    "import skimage.measure as measure\n",
    "from scipy import stats\n",
    "from tqdm import tqdm"
   ]
  },
  {
   "cell_type": "code",
   "execution_count": 2,
   "metadata": {},
   "outputs": [
    {
     "name": "stdout",
     "output_type": "stream",
     "text": [
      "Start Ensemble...\n"
     ]
    }
   ],
   "source": [
    "# csv_name order \n",
    "csv_names = ['7633.csv', '7416.csv', '7136.csv']\n",
    "\n",
    "# weight per class for each one\n",
    "weights = [\n",
    "    (1,1,1,2,2,1,2,1,1,1,1),\n",
    "    (1,2,1,1,1,2,1,2,1,1,2),\n",
    "    (1,1,1,1,1,1,1,1,1,2,1),\n",
    "]\n",
    "subs = []\n",
    "weight = {}\n",
    "for i, name in enumerate(csv_names):\n",
    "    subs.append(pd.read_csv('./'+name, index_col=None))\n",
    "    weight[name] = weights[i]\n",
    "\n",
    "# Ensemble 코드\n",
    "print(\"Start Ensemble...\")\n",
    "# sample_submisson.csv 열기\n",
    "submission = pd.read_csv('./code/submission/sample_submission.csv', index_col=None)\n"
   ]
  },
  {
   "cell_type": "code",
   "execution_count": 3,
   "metadata": {},
   "outputs": [
    {
     "name": "stderr",
     "output_type": "stream",
     "text": [
      "100%|██████████| 819/819 [1:31:03<00:00,  6.67s/it]\n"
     ]
    },
    {
     "name": "stdout",
     "output_type": "stream",
     "text": [
      "Done\n"
     ]
    }
   ],
   "source": [
    "for ind in tqdm(range(819)):\n",
    "    dmasks = []\n",
    "    \n",
    "    # pseudo_mask = np.zeros((256, 256), dtype=np.int32)\n",
    "    pseudo_mask = [[[] for __ in range(256)] for __ in range(256)]\n",
    "    \n",
    "    # 각 픽셀별로, 가중치를 고려해서 모든 label을 list로 만들기\n",
    "    file_name = subs[0]['image_id'][ind]\n",
    "    for name, sub in zip(csv_names,subs):\n",
    "        dmask = np.fromstring(sub['PredictionString'][ind], dtype=int, sep=' ').reshape(256, -1)\n",
    "        for i in range(256):\n",
    "            for j in range(256):\n",
    "                for k in range(weight[name][dmask[i][j]]):\n",
    "                    pseudo_mask[i][j].append(dmask[i][j])\n",
    "    \n",
    "    # 각 픽셀의 label list를 사용해 최빈값을 하나로 설정하기\n",
    "    for i in range(256):\n",
    "        for j in range(256):\n",
    "            pseudo_mask[i][j] = str(stats.mode(pseudo_mask[i][j])[0].tolist()[0])\n",
    "\n",
    "    \n",
    "    predictString = ' '.join(' '.join(e) for e in pseudo_mask)\n",
    "    submission = submission.append({\"image_id\" : file_name, \"PredictionString\" : predictString}, ignore_index=True)\n",
    "    \n",
    "# submission.csv로 저장\n",
    "submission.to_csv(\"Ensemble_Final_SY.csv\", index=False)\n",
    "print(\"Done\")"
   ]
  },
  {
   "cell_type": "code",
   "execution_count": null,
   "metadata": {},
   "outputs": [],
   "source": []
  }
 ],
 "metadata": {
  "kernelspec": {
   "display_name": "base",
   "language": "python",
   "name": "python3"
  },
  "language_info": {
   "codemirror_mode": {
    "name": "ipython",
    "version": 3
   },
   "file_extension": ".py",
   "mimetype": "text/x-python",
   "name": "python",
   "nbconvert_exporter": "python",
   "pygments_lexer": "ipython3",
   "version": "3.8.5"
  },
  "orig_nbformat": 4,
  "vscode": {
   "interpreter": {
    "hash": "d4d1e4263499bec80672ea0156c357c1ee493ec2b1c70f0acce89fc37c4a6abe"
   }
  }
 },
 "nbformat": 4,
 "nbformat_minor": 2
}
