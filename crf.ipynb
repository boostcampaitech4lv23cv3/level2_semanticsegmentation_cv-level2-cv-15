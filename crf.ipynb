{
 "cells": [
  {
   "cell_type": "code",
   "execution_count": null,
   "metadata": {},
   "outputs": [],
   "source": [
    "import numpy as np\n",
    "import pydensecrf.densecrf as dcrf\n",
    "from skimage.io import imread, imsave\n",
    "from pydensecrf.utils import unary_from_labels, create_pairwise_bilateral\n",
    "from skimage.color import gray2rgb\n",
    "from skimage.color import rgb2gray\n",
    "import matplotlib.pyplot as plt\n",
    "import pandas as pd\n",
    "from tqdm import tqdm\n",
    "%matplotlib inline\n",
    "\n",
    "import webcolors\n",
    "from matplotlib.patches import Patch\n",
    "from skimage.transform import resize"
   ]
  },
  {
   "cell_type": "code",
   "execution_count": null,
   "metadata": {},
   "outputs": [],
   "source": [
    "def decode(PredictionString):\n",
    "    mask = PredictionString.split()\n",
    "    image = np.zeros(256 * 256, dtype=np.uint8)\n",
    "    for idx, value in enumerate(mask):\n",
    "        image[idx] = int(value)\n",
    "    # image = image.reshape(256, 256)\n",
    "    return image.reshape(256, 256)"
   ]
  },
  {
   "cell_type": "code",
   "execution_count": null,
   "metadata": {},
   "outputs": [],
   "source": [
    "# 파일 넣기\n",
    "df = pd.read_csv('./SY.csv') # <<<<<\n",
    "\n",
    "plt.figure(figsize=(30, 15))\n",
    "plt.subplots_adjust(bottom=0.2, top=0.8, hspace=0.2)\n",
    "\n",
    "for i in range(5):\n",
    "    decoded_mask = decode(df.loc[i, 'PredictionString'])\n",
    "    plt.subplot(1, 6, i+1)\n",
    "    plt.imshow(decoded_mask)\n",
    "    plt.title(df.loc[i, 'image_id'])"
   ]
  },
  {
   "cell_type": "code",
   "execution_count": null,
   "metadata": {},
   "outputs": [],
   "source": [
    "# class_colormap = pd.read_csv(\"/opt/ml/input/code/class_dict.csv\")\n",
    "class_colormap = [\n",
    "    [0, 0, 0], [192, 0, 128], [0, 128, 192], [0, 128, 64], [128, 0, 0], [64, 0, 128],\n",
    "    [64, 0, 192], [192, 128, 64], [192, 192, 128], [64, 64, 128], [128, 0, 192]\n",
    "]\n",
    "classes = ['Backgroud', 'General trash', 'Paper', 'Paper pack', 'Metal',\n",
    "            'Glass', 'Plastic', 'Styrofoam', 'Plastic bag', 'Battery', 'Clothing']\n"
   ]
  },
  {
   "cell_type": "code",
   "execution_count": null,
   "metadata": {},
   "outputs": [],
   "source": [
    "test_path = '/opt/ml/input/data/'"
   ]
  },
  {
   "cell_type": "code",
   "execution_count": null,
   "metadata": {},
   "outputs": [],
   "source": [
    "def create_trash_label_colormap():\n",
    "    \"\"\"Creates a label colormap used in Trash segmentation.\n",
    "    Returns:\n",
    "        A colormap for visualizing segmentation results.\n",
    "    \"\"\"\n",
    "    colormap = np.zeros((11, 3), dtype=np.uint8)\n",
    "    for inex, (r, g, b) in enumerate(class_colormap):\n",
    "        colormap[inex] = [r, g, b]\n",
    "    \n",
    "    return colormap\n",
    "\n",
    "def label_to_color_image(label):\n",
    "    \"\"\"Adds color defined by the dataset colormap to the label.\n",
    "\n",
    "    Args:\n",
    "        label: A 2D array with integer type, storing the segmentation label.\n",
    "\n",
    "    Returns:\n",
    "        result: A 2D array with floating type. The element of the array\n",
    "                is the color indexed by the corresponding element in the input label\n",
    "                to the trash color map.\n",
    "\n",
    "    Raises:\n",
    "        ValueError: If label is not of rank 2 or its value is larger than color\n",
    "              map maximum entry.\n",
    "    \"\"\"\n",
    "    if label.ndim != 2:\n",
    "        raise ValueError('Expect 2-D input label')\n",
    "\n",
    "    colormap = create_trash_label_colormap()\n",
    "\n",
    "    if np.max(label) >= len(colormap):\n",
    "        raise ValueError('label value too large.')\n",
    "\n",
    "    return colormap[label]"
   ]
  },
  {
   "cell_type": "code",
   "execution_count": null,
   "metadata": {},
   "outputs": [],
   "source": [
    "def crf(original_image, mask_img):\n",
    "    \n",
    "    labels = mask_img.flatten()\n",
    "\n",
    "    n_labels = 11\n",
    "    \n",
    "    #Setting up the CRF model\n",
    "    # d = dcrf.DenseCRF2D(original_image.shape[1], original_image.shape[0], n_labels)\n",
    "    d = dcrf.DenseCRF2D(original_image.shape[1], original_image.shape[0], n_labels)\n",
    "\n",
    "    # get unary potentials (neg log probability)\n",
    "    U = unary_from_labels(labels, n_labels, gt_prob=0.7, zero_unsure=False)\n",
    "    d.setUnaryEnergy(U)\n",
    "\n",
    "    # This adds the color-independent term, features are the locations only.\n",
    "    d.addPairwiseGaussian(sxy=(3, 3), compat=3, kernel=dcrf.DIAG_KERNEL,\n",
    "                      normalization=dcrf.NORMALIZE_SYMMETRIC)\n",
    "\n",
    "    d.addPairwiseBilateral(sxy=(10, 10), srgb=50, rgbim=original_image, compat=5)\n",
    "\n",
    "    #Run Inference for 10 steps \n",
    "    Q = d.inference(40)\n",
    "\n",
    "    # Find out the most probable class for each pixel.\n",
    "    MAP = np.argmax(Q, axis=0)\n",
    "\n",
    "    # return MAP.reshape((original_image.shape[0],original_image.shape[1]))\n",
    "    return MAP.reshape((original_image.shape[0],original_image.shape[1]))\n",
    "\n",
    "\"\"\"\n",
    "visualizing the effect of applying CRF\n",
    "\n",
    "\"\"\"\n",
    "\n",
    "category_and_rgb = [[classes[idx], (r,g,b)] for idx, (r, g, b) in enumerate(class_colormap)]\n",
    "legend_elements = [Patch(facecolor=webcolors.rgb_to_hex(rgb), edgecolor=webcolors.rgb_to_hex(rgb), label=category) for category, rgb in category_and_rgb]\n",
    "     \n",
    "\n",
    "nImgs = 1\n",
    "i = np.random.randint(len(df))\n",
    "# i = 7\n",
    "j = 1\n",
    "\n",
    "plt.figure(figsize=(20,20))\n",
    "plt.subplots_adjust(wspace=0.2,hspace=0.1)  #adjust this to change vertical and horiz. spacings..\n",
    "\n",
    "while True:\n",
    "    if str(df.loc[i,'PredictionString'])!=str(np.nan):        \n",
    "        # print(df.loc[i,'image_id'])\n",
    "        decoded_mask = decode(df.loc[i,'PredictionString'])      \n",
    "        orig_img = imread(test_path+df.loc[i,'image_id'])\n",
    "        orig_img = resize(orig_img, (256, 256, 3))\n",
    "        orig_img = np.uint8(255 * orig_img)\n",
    "        #Applying CRF on FCN-16 annotated image\n",
    "        crf_output = crf(orig_img,decoded_mask)\n",
    "        plt.subplot(nImgs,4,4*j-3)\n",
    "        plt.imshow(orig_img)\n",
    "        plt.title('Original image')\n",
    "        plt.title(df.loc[i,'image_id'])\n",
    "        plt.subplot(nImgs,4,4*j-2)\n",
    "        plt.imshow(label_to_color_image(decoded_mask)) \n",
    "        plt.title(df.loc[i,'image_id'])\n",
    "        plt.title('Original Mask')\n",
    "        plt.subplot(nImgs,4,4*j-1)\n",
    "        plt.imshow(label_to_color_image(crf_output)) \n",
    "        plt.title('Mask after CRF')\n",
    "        plt.legend(handles=legend_elements, bbox_to_anchor=(1.05, 1), loc=2, borderaxespad=0)\n",
    "        if j == nImgs:\n",
    "            break\n",
    "        else:\n",
    "            j = j + 1\n",
    "    i = i + 1"
   ]
  },
  {
   "cell_type": "code",
   "execution_count": null,
   "metadata": {},
   "outputs": [],
   "source": [
    "def encode(im):\n",
    "    '''\n",
    "    im: numpy array, 1 - mask, 0 - background\n",
    "    Returns run length as string formated\n",
    "    '''\n",
    "    pixels = im.flatten()\n",
    "    return ' '.join(str(x) for x in pixels)"
   ]
  },
  {
   "cell_type": "code",
   "execution_count": null,
   "metadata": {},
   "outputs": [],
   "source": [
    "for i in tqdm(range(df.shape[0])):\n",
    "    if str(df.loc[i,'PredictionString'])!=str(np.nan):        \n",
    "        decoded_mask = decode(df.loc[i,'PredictionString'])        \n",
    "        orig_img = imread(test_path+df.loc[i,'image_id'])\n",
    "        orig_img = resize(orig_img, (256, 256, 3))\n",
    "        orig_img = np.uint8(255 * orig_img)  \n",
    "        crf_output = crf(orig_img,decoded_mask)\n",
    "        df.loc[i,'PredictionString'] = encode(crf_output)"
   ]
  },
  {
   "cell_type": "code",
   "execution_count": null,
   "metadata": {},
   "outputs": [],
   "source": [
    "df.to_csv('swin_large_del_Last_best59t_crf.csv',index=False)"
   ]
  }
 ],
 "metadata": {
  "kernelspec": {
   "display_name": "openmmlab",
   "language": "python",
   "name": "python3"
  },
  "language_info": {
   "name": "python",
   "version": "3.8.15 (default, Nov 24 2022, 15:19:38) \n[GCC 11.2.0]"
  },
  "orig_nbformat": 4,
  "vscode": {
   "interpreter": {
    "hash": "f970aae8c359c97046dcfc4e9c1c65f5e3f9cca2a3bef624d88d45c69053e355"
   }
  }
 },
 "nbformat": 4,
 "nbformat_minor": 2
}
