{
 "cells": [
  {
   "cell_type": "code",
   "execution_count": 20,
   "metadata": {},
   "outputs": [],
   "source": [
    "import numpy as np\n",
    "import pandas as pd\n",
    "from collections import defaultdict\n",
    "import os\n",
    "import json\n",
    "import shutil\n",
    "from PIL import Image\n",
    "\n",
    "import warnings \n",
    "warnings.filterwarnings('ignore')\n",
    "\n",
    "import torch\n",
    "from torch.utils.data import Dataset\n",
    "import cv2\n",
    "\n",
    "from pycocotools.coco import COCO\n",
    "\n",
    "import albumentations as A\n",
    "from albumentations.pytorch import ToTensorV2\n",
    "\n",
    "import matplotlib.pyplot as plt\n",
    "import seaborn as sns; sns.set()\n",
    "\n",
    "plt.rcParams['axes.grid'] = False\n",
    "\n",
    "# GPU 사용 가능 여부에 따라 device 정보 저장\n",
    "device = \"cuda\" if torch.cuda.is_available() else \"cpu\""
   ]
  },
  {
   "attachments": {},
   "cell_type": "markdown",
   "metadata": {},
   "source": []
  },
  {
   "cell_type": "code",
   "execution_count": 8,
   "metadata": {},
   "outputs": [
    {
     "name": "stdout",
     "output_type": "stream",
     "text": [
      "{0: 'Background', 1: 'General trash', 2: 'Paper', 3: 'Paper pack', 4: 'Metal', 5: 'Glass', 6: 'Plastic', 7: 'Styrofoam', 8: 'Plastic bag', 9: 'Battery', 10: 'Clothing'}\n"
     ]
    }
   ],
   "source": [
    "gt_csv = pd.read_csv('/opt/ml/ViT-Adapter/segmentation/work_dirs/9_uper_adapter_beit_L_focal/vit_focal_20.csv', index_col=None) #\n",
    "compare = pd.read_csv('/opt/ml/ViT-Adapter/segmentation/work_dirs/9_uper_adapter_beit_L_focal/vit_focal_20_pd.csv', index_col=None)\n",
    "\n",
    "classes = [ \"Background\", \"General trash\", \"Paper\", \"Paper pack\", \"Metal\",\n",
    "    \"Glass\", \"Plastic\", \"Styrofoam\", \"Plastic bag\", \"Battery\", \"Clothing\", ]\n",
    "\n",
    "num_class = dict()\n",
    "for i in range(len(classes)):\n",
    "    num_class[i] = classes[i]\n",
    "\n",
    "print(num_class)"
   ]
  },
  {
   "cell_type": "code",
   "execution_count": 9,
   "metadata": {},
   "outputs": [
    {
     "name": "stdout",
     "output_type": "stream",
     "text": [
      "total num :  0.2783882783882784\n"
     ]
    }
   ],
   "source": [
    "# calculate mIoU\n",
    "c = 0\n",
    "pseudo_list = []\n",
    "for i in range(len(gt_csv)):\n",
    "    gts, pre = gt_csv['PredictionString'][i], compare['PredictionString'][i]\n",
    "    gts_list, pre_list = list(map(int,gts.split())), list(map(int,pre.split()))\n",
    "    IoU = []\n",
    "    temp_union, temp_inter = defaultdict(int), defaultdict(int)\n",
    "    \n",
    "    for j in range(len(gts_list)):\n",
    "        gt, pr = gts_list[j], pre_list[j]\n",
    "        if gt == pr:\n",
    "            temp_inter[gt] += 1\n",
    "            temp_union[pr] += 1\n",
    "        else:\n",
    "            temp_union[gt] += 1\n",
    "            temp_union[pr] += 1\n",
    "\n",
    "\n",
    "    for key in temp_union.keys():\n",
    "        IoU.append((temp_inter[key])/(temp_union[key]))\n",
    "    \n",
    "    mIoU = sum(IoU)/len(IoU)\n",
    "    if mIoU > 0.8:\n",
    "        pseudo_list.append(i)\n",
    "        c += 1\n",
    "\n",
    "print(\"total num : \", c/len(gt_csv))"
   ]
  },
  {
   "cell_type": "code",
   "execution_count": 10,
   "metadata": {},
   "outputs": [],
   "source": [
    "# maybe,, useless\n",
    "def make_image_list(pseudo_list):\n",
    "    image_list = []\n",
    "    for i in range(len(gt_csv)):\n",
    "        if i in pseudo_list:\n",
    "            image_list.append(gt_csv['image_id'][i])\n",
    "    return image_list\n",
    "\n",
    "image_list = make_image_list(pseudo_list)"
   ]
  },
  {
   "cell_type": "code",
   "execution_count": 28,
   "metadata": {},
   "outputs": [
    {
     "name": "stdout",
     "output_type": "stream",
     "text": [
      "psuedo folder and copy complete\n"
     ]
    }
   ],
   "source": [
    "# make directory and copy images for pseudo labels\n",
    "def _make_masks(pseudo_list, image_dir):\n",
    "     for i in range(len(gt_csv)):\n",
    "        if i in pseudo_list:\n",
    "            # copy masks\n",
    "            masks = np.array(list(map(int,gt_csv['PredictionString'][i].split())))\n",
    "            masks = masks.reshape((512,512,1))\n",
    "            # img = Image.fromarray(masks)\n",
    "            cv2.imwrite(os.path.join(image_dir, f\"{i:04}.png\"), masks)\n",
    "            break\n",
    "    \n",
    "\n",
    "def _rename_images(pseudo_list, image_dir):\n",
    "    for i in range(len(gt_csv)):\n",
    "        if i in pseudo_list:\n",
    "            # copy images\n",
    "            shutil.copyfile(\n",
    "                os.path.join(\"/opt/ml/input/data\", gt_csv['image_id'][i]),\n",
    "                os.path.join(image_dir, f\"{i:04}.jpg\"),\n",
    "            )\n",
    "\n",
    "\n",
    "def make(pseudo_list, path):\n",
    "    imagePath = \"/opt/ml/input/data/\" + path\n",
    "    maskPath = \"/opt/ml/input/data/\" + (path+'_ano')\n",
    "    os.makedirs(imagePath, exist_ok=True)\n",
    "    os.makedirs(maskPath, exist_ok=True)\n",
    "    _rename_images(pseudo_list, imagePath)\n",
    "    # print(maskPath)\n",
    "    _make_masks(pseudo_list, maskPath)\n",
    "    print(\"psuedo folder and copy complete\")\n",
    "\n",
    "make(pseudo_list, 'pseudo')"
   ]
  },
  {
   "cell_type": "code",
   "execution_count": null,
   "metadata": {},
   "outputs": [],
   "source": []
  }
 ],
 "metadata": {
  "kernelspec": {
   "display_name": "base",
   "language": "python",
   "name": "python3"
  },
  "language_info": {
   "codemirror_mode": {
    "name": "ipython",
    "version": 3
   },
   "file_extension": ".py",
   "mimetype": "text/x-python",
   "name": "python",
   "nbconvert_exporter": "python",
   "pygments_lexer": "ipython3",
   "version": "3.8.5"
  },
  "orig_nbformat": 4,
  "vscode": {
   "interpreter": {
    "hash": "d4d1e4263499bec80672ea0156c357c1ee493ec2b1c70f0acce89fc37c4a6abe"
   }
  }
 },
 "nbformat": 4,
 "nbformat_minor": 2
}
