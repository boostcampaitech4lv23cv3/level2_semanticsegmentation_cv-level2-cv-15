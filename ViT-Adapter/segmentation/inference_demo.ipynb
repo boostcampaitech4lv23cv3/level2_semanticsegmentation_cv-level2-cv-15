{
 "cells": [
  {
   "cell_type": "code",
   "execution_count": null,
   "metadata": {},
   "outputs": [],
   "source": [
    "# !mkdir ../checkpoints\n",
    "# !wget https://download.openmmlab.com/mmsegmentation/v0.5/pspnet/pspnet_r50-d8_512x1024_40k_cityscapes/pspnet_r50-d8_512x1024_40k_cityscapes_20200605_003338-2966598c.pth -P ../checkpoints"
   ]
  },
  {
   "cell_type": "code",
   "execution_count": 1,
   "metadata": {
    "pycharm": {
     "is_executing": true
    }
   },
   "outputs": [],
   "source": [
    "from mmseg.apis import init_segmentor, inference_segmentor, show_result_pyplot\n",
    "from mmseg.core.evaluation import get_palette"
   ]
  },
  {
   "cell_type": "code",
   "execution_count": 2,
   "metadata": {
    "pycharm": {
     "is_executing": true
    }
   },
   "outputs": [],
   "source": [
    "# config_file = './configs/_sy_/1uper_vit_beit_L/1uper_vit_beit_L.py'\n",
    "config_file = './configs/_sy_/1uper_vit_beit_L/1uper_vit_beit.py'\n",
    "checkpoint_file = './work_dirs/1uper_vit_beit/best_mIoU_iter_24000.pth'"
   ]
  },
  {
   "cell_type": "code",
   "execution_count": 3,
   "metadata": {},
   "outputs": [
    {
     "ename": "FileNotFoundError",
     "evalue": "file \"/opt/ml/ViT-Adapter/segmentation/configs/_sy_/1uper_vit_beit_L/1uper_vit_beit_L.py\" does not exist",
     "output_type": "error",
     "traceback": [
      "\u001b[0;31m---------------------------------------------------------------------------\u001b[0m",
      "\u001b[0;31mFileNotFoundError\u001b[0m                         Traceback (most recent call last)",
      "Cell \u001b[0;32mIn[3], line 2\u001b[0m\n\u001b[1;32m      1\u001b[0m \u001b[39m# build the model from a config file and a checkpoint file\u001b[39;00m\n\u001b[0;32m----> 2\u001b[0m model \u001b[39m=\u001b[39m init_segmentor(config_file, checkpoint_file, device\u001b[39m=\u001b[39;49m\u001b[39m'\u001b[39;49m\u001b[39mcuda:0\u001b[39;49m\u001b[39m'\u001b[39;49m)\n",
      "File \u001b[0;32m/opt/conda/lib/python3.8/site-packages/mmseg/apis/inference.py:26\u001b[0m, in \u001b[0;36minit_segmentor\u001b[0;34m(config, checkpoint, device)\u001b[0m\n\u001b[1;32m     13\u001b[0m \u001b[39m\"\"\"Initialize a segmentor from config file.\u001b[39;00m\n\u001b[1;32m     14\u001b[0m \n\u001b[1;32m     15\u001b[0m \u001b[39mArgs:\u001b[39;00m\n\u001b[0;32m   (...)\u001b[0m\n\u001b[1;32m     23\u001b[0m \u001b[39m    nn.Module: The constructed segmentor.\u001b[39;00m\n\u001b[1;32m     24\u001b[0m \u001b[39m\"\"\"\u001b[39;00m\n\u001b[1;32m     25\u001b[0m \u001b[39mif\u001b[39;00m \u001b[39misinstance\u001b[39m(config, \u001b[39mstr\u001b[39m):\n\u001b[0;32m---> 26\u001b[0m     config \u001b[39m=\u001b[39m mmcv\u001b[39m.\u001b[39;49mConfig\u001b[39m.\u001b[39;49mfromfile(config)\n\u001b[1;32m     27\u001b[0m \u001b[39melif\u001b[39;00m \u001b[39mnot\u001b[39;00m \u001b[39misinstance\u001b[39m(config, mmcv\u001b[39m.\u001b[39mConfig):\n\u001b[1;32m     28\u001b[0m     \u001b[39mraise\u001b[39;00m \u001b[39mTypeError\u001b[39;00m(\u001b[39m'\u001b[39m\u001b[39mconfig must be a filename or Config object, \u001b[39m\u001b[39m'\u001b[39m\n\u001b[1;32m     29\u001b[0m                     \u001b[39m'\u001b[39m\u001b[39mbut got \u001b[39m\u001b[39m{}\u001b[39;00m\u001b[39m'\u001b[39m\u001b[39m.\u001b[39mformat(\u001b[39mtype\u001b[39m(config)))\n",
      "File \u001b[0;32m/opt/conda/lib/python3.8/site-packages/mmcv/utils/config.py:334\u001b[0m, in \u001b[0;36mConfig.fromfile\u001b[0;34m(filename, use_predefined_variables, import_custom_modules)\u001b[0m\n\u001b[1;32m    330\u001b[0m \u001b[39m@staticmethod\u001b[39m\n\u001b[1;32m    331\u001b[0m \u001b[39mdef\u001b[39;00m \u001b[39mfromfile\u001b[39m(filename,\n\u001b[1;32m    332\u001b[0m              use_predefined_variables\u001b[39m=\u001b[39m\u001b[39mTrue\u001b[39;00m,\n\u001b[1;32m    333\u001b[0m              import_custom_modules\u001b[39m=\u001b[39m\u001b[39mTrue\u001b[39;00m):\n\u001b[0;32m--> 334\u001b[0m     cfg_dict, cfg_text \u001b[39m=\u001b[39m Config\u001b[39m.\u001b[39;49m_file2dict(filename,\n\u001b[1;32m    335\u001b[0m                                            use_predefined_variables)\n\u001b[1;32m    336\u001b[0m     \u001b[39mif\u001b[39;00m import_custom_modules \u001b[39mand\u001b[39;00m cfg_dict\u001b[39m.\u001b[39mget(\u001b[39m'\u001b[39m\u001b[39mcustom_imports\u001b[39m\u001b[39m'\u001b[39m, \u001b[39mNone\u001b[39;00m):\n\u001b[1;32m    337\u001b[0m         import_modules_from_strings(\u001b[39m*\u001b[39m\u001b[39m*\u001b[39mcfg_dict[\u001b[39m'\u001b[39m\u001b[39mcustom_imports\u001b[39m\u001b[39m'\u001b[39m])\n",
      "File \u001b[0;32m/opt/conda/lib/python3.8/site-packages/mmcv/utils/config.py:181\u001b[0m, in \u001b[0;36mConfig._file2dict\u001b[0;34m(filename, use_predefined_variables)\u001b[0m\n\u001b[1;32m    178\u001b[0m \u001b[39m@staticmethod\u001b[39m\n\u001b[1;32m    179\u001b[0m \u001b[39mdef\u001b[39;00m \u001b[39m_file2dict\u001b[39m(filename, use_predefined_variables\u001b[39m=\u001b[39m\u001b[39mTrue\u001b[39;00m):\n\u001b[1;32m    180\u001b[0m     filename \u001b[39m=\u001b[39m osp\u001b[39m.\u001b[39mabspath(osp\u001b[39m.\u001b[39mexpanduser(filename))\n\u001b[0;32m--> 181\u001b[0m     check_file_exist(filename)\n\u001b[1;32m    182\u001b[0m     fileExtname \u001b[39m=\u001b[39m osp\u001b[39m.\u001b[39msplitext(filename)[\u001b[39m1\u001b[39m]\n\u001b[1;32m    183\u001b[0m     \u001b[39mif\u001b[39;00m fileExtname \u001b[39mnot\u001b[39;00m \u001b[39min\u001b[39;00m [\u001b[39m'\u001b[39m\u001b[39m.py\u001b[39m\u001b[39m'\u001b[39m, \u001b[39m'\u001b[39m\u001b[39m.json\u001b[39m\u001b[39m'\u001b[39m, \u001b[39m'\u001b[39m\u001b[39m.yaml\u001b[39m\u001b[39m'\u001b[39m, \u001b[39m'\u001b[39m\u001b[39m.yml\u001b[39m\u001b[39m'\u001b[39m]:\n",
      "File \u001b[0;32m/opt/conda/lib/python3.8/site-packages/mmcv/utils/path.py:23\u001b[0m, in \u001b[0;36mcheck_file_exist\u001b[0;34m(filename, msg_tmpl)\u001b[0m\n\u001b[1;32m     21\u001b[0m \u001b[39mdef\u001b[39;00m \u001b[39mcheck_file_exist\u001b[39m(filename, msg_tmpl\u001b[39m=\u001b[39m\u001b[39m'\u001b[39m\u001b[39mfile \u001b[39m\u001b[39m\"\u001b[39m\u001b[39m{}\u001b[39;00m\u001b[39m\"\u001b[39m\u001b[39m does not exist\u001b[39m\u001b[39m'\u001b[39m):\n\u001b[1;32m     22\u001b[0m     \u001b[39mif\u001b[39;00m \u001b[39mnot\u001b[39;00m osp\u001b[39m.\u001b[39misfile(filename):\n\u001b[0;32m---> 23\u001b[0m         \u001b[39mraise\u001b[39;00m \u001b[39mFileNotFoundError\u001b[39;00m(msg_tmpl\u001b[39m.\u001b[39mformat(filename))\n",
      "\u001b[0;31mFileNotFoundError\u001b[0m: file \"/opt/ml/ViT-Adapter/segmentation/configs/_sy_/1uper_vit_beit_L/1uper_vit_beit_L.py\" does not exist"
     ]
    }
   ],
   "source": [
    "# build the model from a config file and a checkpoint file\n",
    "model = init_segmentor(config_file, checkpoint_file, device='cuda:0')"
   ]
  },
  {
   "cell_type": "code",
   "execution_count": null,
   "metadata": {},
   "outputs": [],
   "source": [
    "# test a single image\n",
    "img = 'demo.png'\n",
    "result = inference_segmentor(model, img)"
   ]
  },
  {
   "cell_type": "code",
   "execution_count": null,
   "metadata": {},
   "outputs": [],
   "source": [
    "# show the results\n",
    "show_result_pyplot(model, img, result, get_palette('cityscapes'))"
   ]
  },
  {
   "cell_type": "code",
   "execution_count": null,
   "metadata": {},
   "outputs": [],
   "source": []
  }
 ],
 "metadata": {
  "kernelspec": {
   "display_name": "base",
   "language": "python",
   "name": "python3"
  },
  "language_info": {
   "codemirror_mode": {
    "name": "ipython",
    "version": 3
   },
   "file_extension": ".py",
   "mimetype": "text/x-python",
   "name": "python",
   "nbconvert_exporter": "python",
   "pygments_lexer": "ipython3",
   "version": "3.8.5"
  },
  "pycharm": {
   "stem_cell": {
    "cell_type": "raw",
    "metadata": {
     "collapsed": false
    },
    "source": []
   }
  },
  "vscode": {
   "interpreter": {
    "hash": "d4d1e4263499bec80672ea0156c357c1ee493ec2b1c70f0acce89fc37c4a6abe"
   }
  }
 },
 "nbformat": 4,
 "nbformat_minor": 4
}
